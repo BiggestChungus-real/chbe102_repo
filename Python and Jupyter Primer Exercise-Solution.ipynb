{
 "cells": [
  {
   "cell_type": "markdown",
   "metadata": {},
   "source": [
    "# Python and Jupyter Primer Exercise"
   ]
  },
  {
   "cell_type": "markdown",
   "metadata": {},
   "source": [
    "## Computational tools in ChBE 102\n",
    "\n",
    "In chemical reaction engineering we will face a number of scenarios which are intractable to solve by hand and will therefore rely on computational tools to connect our understanding of reactor design fundamentals to solving realistic problems. The basic tools we consistently require are ordinary differential equation (ODE) solvers and non-linear systems of equations solvers. Throughout the course we will discuss how to use these efficiently.\n",
    "\n",
    "We will use Python to this end due to its open-source nature and adaptability - you can use it for far more than just chemical engineering math. Python on its own is only a lanuage, however. To use it, we could either work from a command line (not recommended) or from an \"Integrated Development Environment\" or IDE. Examples include Spyder, PyCharm, Thonny, Atom, Jupyter Notebooks, and JupyterLab. By contrast, MATLAB is both a language *and* its own IDE. These IDEs allow you to import \"packages\" that let you perform various calculations, visualizations, and data manipulations with editable code. Spyder looks similar to MATLAB and is a great choice for troubleshooting but not for displaying and sharing data. Jupyter Notebooks are much better for this, which is why we will use them in ChBE 102. Jupyter Notebooks can also be used to process different computing languages such as R, Julia, Octave, and even MATLAB. Additionally, a number of virtual environments based on the notebook's cousin JupyterLab are also commonly available/generatable (e.g., Binder-rendered GitHub repositories).\n",
    "\n",
    "You are free to use whichever IDE you prefer to create and edit your codes in, but you will ultimately need to turn in a printed Jupyter Notebook (usually it's quick to just copy/paste).\n",
    "\n",
    "**TO START** it is strongly suggested that you access Python through the Anaconda distribution. Anaconda is a \"distribution\" of Python meaning that it includes the code, packages, IDEs, and various utilities to manage packages. The installation is free and easy."
   ]
  },
  {
   "cell_type": "markdown",
   "metadata": {},
   "source": [
    "## Jupyter Notebooks\n",
    "\n",
    "Jupyter Notebooks consist of multiple \"cells\" with different purposes:\n",
    "\n",
    "- **Raw cells**: the text in these will not be reformatted or really \"interpreted\" in any way \n",
    "- **Markdown cells**: these contain formatted text and LaTeX equations (this is a Markdown cell)\n",
    "- **Code cells**: these contain executable commands\n",
    "\n",
    "In order to evaluate the commands in a cell or format it, you can press \"Shift-Enter\" or the \"Run\" button at the top.\n",
    "\n",
    "When you run a Raw cell, nothing will happen.\n",
    "\n",
    "When you run a Markdown cell, all of the formatting will be displayed.\n",
    "\n",
    "When you run a Code cell, calculations will be performed and global variables will be saved. These can then be accessed in other code cells. **The spatial order of code cells does not matter - only the order in which the cells are run.** It is generally better to order them in the order you would like to run them, however. There is no native variable explorer to see what you have defined so the best way to check which variables have been defined and what their values are is to just print them. A variable explorer can be added with notebook extensions, however, which will be noted momentarily.\n",
    "\n",
    "If you ever want to **reset your variables** you can do so by going to **Kernel/Restart**. All program definitions will also be lost. \n",
    "\n",
    "One of the most useful features of these notebooks is that they show the output of a code right below it after execution. This makes it easier to understand how a code operates (especially since you can add your own clarifications in Markdown cells)."
   ]
  },
  {
   "cell_type": "markdown",
   "metadata": {},
   "source": [
    "## Jupyter Notebook extensions\n",
    "\n",
    "When transitioning to a \"literate\" form of programming like Jupyter Notebooks from a \"non-literate\" form of programming (e.g., Spyder), some debugging tools can be lost. Jupyter Notebook is currently missing a few ideal features that can be found with nb_extensions. Once downloaded, you can enable them in the main Jupyter screen under the \"Nbextentions\" tab.\n",
    "\n",
    "When I work with Jupyter Notebooks I use the following:\n",
    "\n",
    "- Codefolding\n",
    "- Live Markdown Preview\n",
    "- Variable Inspector\n",
    "- Toggle all line numbers\n",
    "\n",
    "It is **strongly suggested** that you download these extensions with the following link as they will make working with these notebooks easier:https://jupyter-contrib-nbextensions.readthedocs.io/en/latest/install.html \n",
    "\n",
    "Note that these features may have been built for an older version of Jupyter Notebooks than yours, but I have had no issues yet."
   ]
  },
  {
   "cell_type": "markdown",
   "metadata": {},
   "source": [
    "## Exercise 1\n",
    "\n",
    "Insert a Markdown cell below this one. In it type the following equation (without the indentation) and execute the cell. This should look like a real equation after you do.\n",
    "\n",
    "    $$ \\frac{dF_{A}}{dV} = R_{A} = \\sum{\\nu_{i,j}\\cdot r_i} = -r_1 = -k_1 \\cdot C_A^2 $$"
   ]
  },
  {
   "cell_type": "markdown",
   "metadata": {},
   "source": [
    "$$ \\frac{dF_{A}}{dV} = R_{A} = \\sum{\\nu_{i,j}\\cdot r_i} = -r_1 = -k_1 \\cdot C_A^2 $$"
   ]
  },
  {
   "cell_type": "markdown",
   "metadata": {},
   "source": [
    "## Exercise 2\n",
    "\n",
    "Insert four code cells below.\n",
    "\n",
    "In the first, define variable k_1 = 11.55 and variable C_A = 2.3. Print the values of these with print(k_1) and print(C_A). Run the cell.\n",
    "\n",
    "In the second, define r_1 = k_1 * C_A ** 2 and R_A = -r_1. Print the values of these to two decimal points with:\n",
    "\n",
    "    print('r_1 = ' + '{:,.2f}'.format(r_1))\n",
    "    print('R_A = ' + '{:,.2f}'.format(R_A))\n",
    "\n",
    "and run the cell. **NOTE: indentations are very meaningful in Python. Do NOT indent these as shown - they are indented only to render them as 'raw' text in a Markdown cell.** If you want to paste the code and un-indent it, you can by selecting all of it and pressing shift-tab.\n",
    "\n",
    "Then also print them in scientific notation with three signficant figures via:\n",
    "\n",
    "    print('r_1 = ' + '{:,.2e}'.format(r_1))\n",
    "    print('R_A = ' + '{:,.2e}'.format(R_A))\n",
    "    \n",
    "and run the cell.\n",
    "\n",
    "In the third, type print(k_1) and print(C_A) but do *not* run it yet. First restart the kernel, *then* run just this third cell. The output should throw an error like this:\n",
    "\n",
    "    ---------------------------------------------------------------------------\n",
    "    NameError                                 Traceback (most recent call last)\n",
    "    <ipython-input-1-64f939307a32> in <module>\n",
    "    ----> 1 print(k_1)\n",
    "          2 print(C_A)\n",
    "\n",
    "    NameError: name 'k_1' is not defined\n",
    "\n",
    "Do not correct the error - report as is.\n",
    "\n",
    "In the fourth, type the following (without the initial line indentation):\n",
    "    \n",
    "    print('If you want to write something very long but it is taking up too much space you can just'\n",
    "    'continue on the next line as long as apostraphes are properly places and nothing new is started.'\n",
    "          ' It does not matter if they are aligned.'\n",
    "                          ' Very '\n",
    "          'nifty. Thanks, Python.')\n",
    "        \n",
    "and run the cell."
   ]
  },
  {
   "cell_type": "code",
   "execution_count": 8,
   "metadata": {},
   "outputs": [
    {
     "name": "stdout",
     "output_type": "stream",
     "text": [
      "11.55\n",
      "2.3\n"
     ]
    }
   ],
   "source": [
    "k_1 = 11.55 \n",
    "C_A = 2.3\n",
    "\n",
    "print(k_1)\n",
    "print(C_A)"
   ]
  },
  {
   "cell_type": "code",
   "execution_count": 9,
   "metadata": {},
   "outputs": [
    {
     "name": "stdout",
     "output_type": "stream",
     "text": [
      "r_1 = 61.10\n",
      "R_A = -61.10\n",
      "r_1 = 6.11e+01\n",
      "R_A = -6.11e+01\n"
     ]
    }
   ],
   "source": [
    "r_1 = k_1 * C_A ** 2\n",
    "R_A = -r_1\n",
    "\n",
    "print('r_1 = ' + '{:,.2f}'.format(r_1))\n",
    "print('R_A = ' + '{:,.2f}'.format(R_A))\n",
    "\n",
    "print('r_1 = ' + '{:,.2e}'.format(r_1))\n",
    "print('R_A = ' + '{:,.2e}'.format(R_A))"
   ]
  },
  {
   "cell_type": "code",
   "execution_count": 1,
   "metadata": {},
   "outputs": [
    {
     "ename": "NameError",
     "evalue": "name 'k_1' is not defined",
     "output_type": "error",
     "traceback": [
      "\u001b[1;31m---------------------------------------------------------------------------\u001b[0m",
      "\u001b[1;31mNameError\u001b[0m                                 Traceback (most recent call last)",
      "\u001b[1;32m<ipython-input-1-64f939307a32>\u001b[0m in \u001b[0;36m<module>\u001b[1;34m\u001b[0m\n\u001b[1;32m----> 1\u001b[1;33m \u001b[0mprint\u001b[0m\u001b[1;33m(\u001b[0m\u001b[0mk_1\u001b[0m\u001b[1;33m)\u001b[0m\u001b[1;33m\u001b[0m\u001b[1;33m\u001b[0m\u001b[0m\n\u001b[0m\u001b[0;32m      2\u001b[0m \u001b[0mprint\u001b[0m\u001b[1;33m(\u001b[0m\u001b[0mC_A\u001b[0m\u001b[1;33m)\u001b[0m\u001b[1;33m\u001b[0m\u001b[1;33m\u001b[0m\u001b[0m\n",
      "\u001b[1;31mNameError\u001b[0m: name 'k_1' is not defined"
     ]
    }
   ],
   "source": [
    "print(k_1)\n",
    "print(C_A)"
   ]
  },
  {
   "cell_type": "code",
   "execution_count": 2,
   "metadata": {},
   "outputs": [
    {
     "name": "stdout",
     "output_type": "stream",
     "text": [
      "If you want to write something very long but it is taking up too much space you can justcontinue on the next line as long as apostraphes are properly places and nothing new is started. It does not matter if they are aligned. Very nifty. Thanks, Python.\n"
     ]
    }
   ],
   "source": [
    "print('If you want to write something very long but it is taking up too much space you can just'\n",
    "'continue on the next line as long as apostraphes are properly places and nothing new is started.'\n",
    "      ' It does not matter if they are aligned.'\n",
    "                      ' Very '\n",
    "      'nifty. Thanks, Python.')"
   ]
  },
  {
   "cell_type": "markdown",
   "metadata": {},
   "source": [
    "## Exercise 3\n",
    "\n",
    "Now we will import packages and play around with some data structures. The three packages you will use most are:\n",
    "\n",
    "- **Numpy**: Various mathemetical operations and data structures\n",
    "- **MatPlotLib**: Basic plotting package. We will often import just the \"pyplot\" program from it.\n",
    "- **Scipy**: Various solving tools such as ODEs and curve_fit. We will often import *parts* of this package\n",
    "\n",
    "Insert two code cells below.\n",
    "\n",
    "In the first, import these packages as follows and execute the cell.\n",
    "    \n",
    "    import numpy as np\n",
    "    import matplotlib.pyplot as plt\n",
    "    from scipy.integrate import solve_ivp\n",
    "    from scipy.optimize import curve_fit\n",
    "    \n",
    "In the second, you will work with some basic data structures: scalars, strings, lists, tuples, and numpy arrays. Run the following and see what happens. You do not need to write what you gather from this, but I encourage you to think deeply about what is going on here. There is some useful syntax you may return to later in the course.\n",
    "\n",
    "    x = 42\n",
    "    xstring = 'parasaurolophus'\n",
    "    xlist = [10,20,30,40]\n",
    "    xtuple = (10,20,30,40)\n",
    "    xarray_0D = np.array([10,20,30,40])\n",
    "    xarray_0D_b = np.array(xlist)\n",
    "    xarray_row = np.array([xlist])\n",
    "    xarray_column = np.array([xlist]).T\n",
    "\n",
    "    print(x)\n",
    "    print(x+x)\n",
    "    print(type(x))\n",
    "    print('\\n')\n",
    "\n",
    "    print(xstring)\n",
    "    print(xstring+xstring)\n",
    "    print(type(xstring))\n",
    "    print('\\n')\n",
    "\n",
    "    print(xlist)\n",
    "    print(xlist+xlist)\n",
    "    print(xlist[0])\n",
    "    print(xlist[-1])\n",
    "    print(type(xlist))\n",
    "    print('\\n')\n",
    "\n",
    "    print(xtuple)\n",
    "    print(xtuple+xtuple)\n",
    "    print(xtuple[0])\n",
    "    print(xtuple[-1])\n",
    "    print(type(xtuple))\n",
    "    print('\\n')\n",
    "\n",
    "    print(xarray_0D)\n",
    "    print(xarray_0D_b)\n",
    "    print(xarray_0D+xarray_0D)\n",
    "    print(xarray_0D[0])\n",
    "    print(xarray_0D[-1])\n",
    "    print(type(xarray_0D))\n",
    "    print('\\n')\n",
    "\n",
    "    print('xarray0D is: \\n',xarray_0D,'\\n its shape is',np.shape(xarray_0D),'\\n and its type is',type(xarray_0D),'\\n')\n",
    "    print('xarray_row is: \\n',xarray_row,'\\n its shape is',np.shape(xarray_row),'\\n and its type is',type(xarray_row),'\\n')\n",
    "    print('xarray_column is: \\n',xarray_column,'\\n its shape is','\\n and its type is',type(xarray_column),'\\n')\n",
    "    print('Len gives the length of the shortest dimension. For xarray_0D it is',len(xarray_0D),\n",
    "          'but for xarray_row it is',len(xarray_row))\n",
    "    print('To get the longest length you need to use np.shape.')\n",
    "    print('xarray_row has',np.shape(xarray_row)[0],'rows and',np.shape(xarray_row)[1],\n",
    "          'columns. The longest dimension has',np.max(np.shape(xarray_row)),'elements. \\n')\n",
    "\n",
    "    print('You can reshape arrays if needed by using .reshape. With this you can convert \\n',xarray_0D,\n",
    "          'into\\n',xarray_0D.reshape(1,4),'or\\n',xarray_0D.reshape(4,1),'\\n')\n",
    "\n",
    "    print('You can stack rows on top of each other with vstack and columns next to each other with hstack.')\n",
    "    x_vstacked = np.vstack((xarray_row,xarray_row))\n",
    "    print('Stacked rows:\\n',x_vstacked)\n",
    "    x_hstacked = np.hstack((xarray_column,xarray_column))\n",
    "    print('Stacked columns:\\n',x_hstacked)\n",
    "    print('First column of stacked rows:\\n',x_vstacked[:,0])\n",
    "    print('Note that this is not a column-it is a zero dimensional array. If you need it to be a column,'\n",
    "    'you will have to reshape it as noted before, like with this jargon:\\n',x_vstacked[:,0].reshape(np.max(len(x_vstacked)),1))"
   ]
  },
  {
   "cell_type": "code",
   "execution_count": 3,
   "metadata": {},
   "outputs": [],
   "source": [
    "import numpy as np\n",
    "import matplotlib.pyplot as plt\n",
    "from scipy.integrate import solve_ivp\n",
    "from scipy.optimize import curve_fit"
   ]
  },
  {
   "cell_type": "code",
   "execution_count": 8,
   "metadata": {},
   "outputs": [
    {
     "name": "stdout",
     "output_type": "stream",
     "text": [
      "42\n",
      "84\n",
      "<class 'int'>\n",
      "\n",
      "\n",
      "parasaurolophus\n",
      "parasaurolophusparasaurolophus\n",
      "<class 'str'>\n",
      "\n",
      "\n",
      "[10, 20, 30, 40]\n",
      "[10, 20, 30, 40, 10, 20, 30, 40]\n",
      "10\n",
      "40\n",
      "<class 'list'>\n",
      "\n",
      "\n",
      "(10, 20, 30, 40)\n",
      "(10, 20, 30, 40, 10, 20, 30, 40)\n",
      "10\n",
      "40\n",
      "<class 'tuple'>\n",
      "\n",
      "\n",
      "[10 20 30 40]\n",
      "[10 20 30 40]\n",
      "[20 40 60 80]\n",
      "10\n",
      "40\n",
      "<class 'numpy.ndarray'>\n",
      "\n",
      "\n",
      "xarray0D is: \n",
      " [10 20 30 40] \n",
      " its shape is (4,) \n",
      " and its type is <class 'numpy.ndarray'> \n",
      "\n",
      "xarray_row is: \n",
      " [[10 20 30 40]] \n",
      " its shape is (1, 4) \n",
      " and its type is <class 'numpy.ndarray'> \n",
      "\n",
      "xarray_column is: \n",
      " [[10]\n",
      " [20]\n",
      " [30]\n",
      " [40]] \n",
      " its shape is \n",
      " and its type is <class 'numpy.ndarray'> \n",
      "\n",
      "Len gives the length of the shortest dimension. For xarray_0D it is 4 but for xarray_row it is 1\n",
      "To get the longest length you need to use np.shape.\n",
      "xarray_row has 1 rows and 4 columns. The longest dimension has 4 elements. \n",
      "\n",
      "You can reshape arrays if needed by using .reshape. With this you can convert \n",
      " [10 20 30 40] into\n",
      " [[10 20 30 40]] or\n",
      " [[10]\n",
      " [20]\n",
      " [30]\n",
      " [40]] \n",
      "\n",
      "You can stack rows on top of each other with vstack and columns next to each other with hstack.\n",
      "Stacked rows:\n",
      " [[10 20 30 40]\n",
      " [10 20 30 40]]\n",
      "Stacked columns:\n",
      " [[10 10]\n",
      " [20 20]\n",
      " [30 30]\n",
      " [40 40]]\n",
      "First column of stacked rows:\n",
      " [10 10]\n",
      "Note that this is not a column-it is a zero dimensional array. If you need it to be a column,you will have to reshape it as noted before, like with this jargon:\n",
      " [[10]\n",
      " [10]]\n"
     ]
    }
   ],
   "source": [
    "x = 42\n",
    "xstring = 'parasaurolophus'\n",
    "xlist = [10,20,30,40]\n",
    "xtuple = (10,20,30,40)\n",
    "xarray_0D = np.array([10,20,30,40])\n",
    "xarray_0D_b = np.array(xlist)\n",
    "xarray_row = np.array([xlist])\n",
    "xarray_column = np.array([xlist]).T\n",
    "\n",
    "print(x)\n",
    "print(x+x)\n",
    "print(type(x))\n",
    "print('\\n')\n",
    "\n",
    "print(xstring)\n",
    "print(xstring+xstring)\n",
    "print(type(xstring))\n",
    "print('\\n')\n",
    "\n",
    "print(xlist)\n",
    "print(xlist+xlist)\n",
    "print(xlist[0])\n",
    "print(xlist[-1])\n",
    "print(type(xlist))\n",
    "print('\\n')\n",
    "\n",
    "print(xtuple)\n",
    "print(xtuple+xtuple)\n",
    "print(xtuple[0])\n",
    "print(xtuple[-1])\n",
    "print(type(xtuple))\n",
    "print('\\n')\n",
    "\n",
    "print(xarray_0D)\n",
    "print(xarray_0D_b)\n",
    "print(xarray_0D+xarray_0D)\n",
    "print(xarray_0D[0])\n",
    "print(xarray_0D[-1])\n",
    "print(type(xarray_0D))\n",
    "print('\\n')\n",
    "\n",
    "print('xarray0D is: \\n',xarray_0D,'\\n its shape is',np.shape(xarray_0D),'\\n and its type is',type(xarray_0D),'\\n')\n",
    "print('xarray_row is: \\n',xarray_row,'\\n its shape is',np.shape(xarray_row),'\\n and its type is',type(xarray_row),'\\n')\n",
    "print('xarray_column is: \\n',xarray_column,'\\n its shape is','\\n and its type is',type(xarray_column),'\\n')\n",
    "print('Len gives the length of the shortest dimension. For xarray_0D it is',len(xarray_0D),\n",
    "      'but for xarray_row it is',len(xarray_row))\n",
    "print('To get the longest length you need to use np.shape.')\n",
    "print('xarray_row has',np.shape(xarray_row)[0],'rows and',np.shape(xarray_row)[1],\n",
    "      'columns. The longest dimension has',np.max(np.shape(xarray_row)),'elements. \\n')\n",
    "\n",
    "print('You can reshape arrays if needed by using .reshape. With this you can convert \\n',xarray_0D,\n",
    "      'into\\n',xarray_0D.reshape(1,4),'or\\n',xarray_0D.reshape(4,1),'\\n')\n",
    "\n",
    "print('You can stack rows on top of each other with vstack and columns next to each other with hstack.')\n",
    "x_vstacked = np.vstack((xarray_row,xarray_row))\n",
    "print('Stacked rows:\\n',x_vstacked)\n",
    "x_hstacked = np.hstack((xarray_column,xarray_column))\n",
    "print('Stacked columns:\\n',x_hstacked)\n",
    "print('First column of stacked rows:\\n',x_vstacked[:,0])\n",
    "print('Note that this is not a column-it is a zero dimensional array. If you need it to be a column,'\n",
    "'you will have to reshape it as noted before, like with this jargon:\\n',x_vstacked[:,0].reshape(np.max(len(x_vstacked)),1))"
   ]
  },
  {
   "cell_type": "markdown",
   "metadata": {},
   "source": [
    "## Exercise 4\n",
    "\n",
    "Generate some simple plots. Note that the dimensions of what you plot must agree. If you are using numpy arrays, this is where dimensions can be annoying. It's generally easiest to plot 0-dimensional arrays. While you can print one plot with just \"plt.plot,\" you often will want to make subplots with multiple plots next to each other. You can do this by defining how your subplot is arranged and how much space each takes up. If you say that one axis is (122) that is saying you have 1 row and 2 columns, and you are referring to the second of those two. If (233), you have 2 rows and 3 columns, and you are selecting the third of those six (going from left to right then top to bottom). If you just say (111), this is just one single plot.\n",
    "\n",
    "For this exercise create two code cells.\n",
    "\n",
    "In the first enter the following and run the cell. You may have to run it twice--there's a glitch that makes the first plot generation look strange sometimes. Note that it isn't necessary to re-import these packages if you already did in a previously-run cell.\n",
    "    \n",
    "    import matplotlib.pyplot as plt\n",
    "    import numpy as np\n",
    "\n",
    "    t_0d  = np.array([1,2,3,4,5,6])\n",
    "    CA_0d = np.array([2,1,0.5,0.25,0.125,0.0625])\n",
    "\n",
    "    t_column  = np.array([[1,2,3,4,5,6]]).T\n",
    "    CA_column = np.array([[2,1,0.5,0.25,0.125,0.0625]]).T\n",
    "\n",
    "    fig = plt.figure()\n",
    "    ax1 = plt.subplot(121)\n",
    "    ax2 = plt.subplot(122)\n",
    "\n",
    "    ax1.plot(t_0d,CA_0d)\n",
    "    ax1.set_xlabel('Time (s)')\n",
    "    ax1.set_ylabel(r'$C_A$ (mol/L)')\n",
    "    ax1.legend([r'$C_A$'])\n",
    "\n",
    "    ax2.plot(t_column,CA_column)\n",
    "    ax2.set_xlabel('Time (s)')\n",
    "    ax2.set_ylabel(r'$C_A$ (mol/L)')\n",
    "    ax2.legend([r'$C_A$'])\n",
    "\n",
    "    fig.tight_layout()\n",
    "    plt.show()\n",
    "    \n",
    "In the second enter the following and run the cell *after* running the former cell. It will throw an error that says your dimensions do not agree. It is fine if 1 is 0D and 1 is 2D, but it is *not* okay if you have two 2D arrays with different shapes (like a column and a row vector). Do not correct the error - report as is.\n",
    "\n",
    "    CA_row = CA_column.T\n",
    "    fig = plt.figure()\n",
    "    ax1 = plt.subplot(111)\n",
    "\n",
    "    ax1.plot(t_column,CA_row)\n",
    "    ax1.set_xlabel('Time (s)')\n",
    "    ax1.set_ylabel(r'$C_A$ (mol/L)')\n",
    "    ax1.legend([r'$C_A$'])\n",
    "\n",
    "    fig.tight_layout()\n",
    "    plt.show()"
   ]
  },
  {
   "cell_type": "code",
   "execution_count": 9,
   "metadata": {},
   "outputs": [
    {
     "data": {
      "image/png": "[encoded data removed]",
      "text/plain": [
       "<Figure size 640x480 with 2 Axes>"
      ]
     },
     "metadata": {},
     "output_type": "display_data"
    }
   ],
   "source": [
    "import matplotlib.pyplot as plt\n",
    "import numpy as np\n",
    "\n",
    "t_0d  = np.array([1,2,3,4,5,6])\n",
    "CA_0d = np.array([2,1,0.5,0.25,0.125,0.0625])\n",
    "\n",
    "t_column  = np.array([[1,2,3,4,5,6]]).T\n",
    "CA_column = np.array([[2,1,0.5,0.25,0.125,0.0625]]).T\n",
    "\n",
    "fig = plt.figure()\n",
    "ax1 = plt.subplot(121)\n",
    "ax2 = plt.subplot(122)\n",
    "\n",
    "ax1.plot(t_0d,CA_0d)\n",
    "ax1.set_xlabel('Time (s)')\n",
    "ax1.set_ylabel(r'$C_A$ (mol/L)')\n",
    "ax1.legend([r'$C_A$'])\n",
    "\n",
    "ax2.plot(t_column,CA_column)\n",
    "ax2.set_xlabel('Time (s)')\n",
    "ax2.set_ylabel(r'$C_A$ (mol/L)')\n",
    "ax2.legend([r'$C_A$'])\n",
    "\n",
    "fig.tight_layout()\n",
    "plt.show()"
   ]
  },
  {
   "cell_type": "code",
   "execution_count": 10,
   "metadata": {},
   "outputs": [
    {
     "ename": "ValueError",
     "evalue": "x and y must have same first dimension, but have shapes (6, 1) and (1, 6)",
     "output_type": "error",
     "traceback": [
      "\u001b[1;31m---------------------------------------------------------------------------\u001b[0m",
      "\u001b[1;31mValueError\u001b[0m                                Traceback (most recent call last)",
      "\u001b[1;32m<ipython-input-10-e1600524cfec>\u001b[0m in \u001b[0;36m<module>\u001b[1;34m\u001b[0m\n\u001b[0;32m      3\u001b[0m \u001b[0max1\u001b[0m \u001b[1;33m=\u001b[0m \u001b[0mplt\u001b[0m\u001b[1;33m.\u001b[0m\u001b[0msubplot\u001b[0m\u001b[1;33m(\u001b[0m\u001b[1;36m111\u001b[0m\u001b[1;33m)\u001b[0m\u001b[1;33m\u001b[0m\u001b[1;33m\u001b[0m\u001b[0m\n\u001b[0;32m      4\u001b[0m \u001b[1;33m\u001b[0m\u001b[0m\n\u001b[1;32m----> 5\u001b[1;33m \u001b[0max1\u001b[0m\u001b[1;33m.\u001b[0m\u001b[0mplot\u001b[0m\u001b[1;33m(\u001b[0m\u001b[0mt_column\u001b[0m\u001b[1;33m,\u001b[0m\u001b[0mCA_row\u001b[0m\u001b[1;33m)\u001b[0m\u001b[1;33m\u001b[0m\u001b[1;33m\u001b[0m\u001b[0m\n\u001b[0m\u001b[0;32m      6\u001b[0m \u001b[0max1\u001b[0m\u001b[1;33m.\u001b[0m\u001b[0mset_xlabel\u001b[0m\u001b[1;33m(\u001b[0m\u001b[1;34m'Time (s)'\u001b[0m\u001b[1;33m)\u001b[0m\u001b[1;33m\u001b[0m\u001b[1;33m\u001b[0m\u001b[0m\n\u001b[0;32m      7\u001b[0m \u001b[0max1\u001b[0m\u001b[1;33m.\u001b[0m\u001b[0mset_ylabel\u001b[0m\u001b[1;33m(\u001b[0m\u001b[1;34mr'$C_A$ (mol/L)'\u001b[0m\u001b[1;33m)\u001b[0m\u001b[1;33m\u001b[0m\u001b[1;33m\u001b[0m\u001b[0m\n",
      "\u001b[1;32m~\\anaconda3\\lib\\site-packages\\matplotlib\\axes\\_axes.py\u001b[0m in \u001b[0;36mplot\u001b[1;34m(self, scalex, scaley, data, *args, **kwargs)\u001b[0m\n\u001b[0;32m   1663\u001b[0m         \"\"\"\n\u001b[0;32m   1664\u001b[0m         \u001b[0mkwargs\u001b[0m \u001b[1;33m=\u001b[0m \u001b[0mcbook\u001b[0m\u001b[1;33m.\u001b[0m\u001b[0mnormalize_kwargs\u001b[0m\u001b[1;33m(\u001b[0m\u001b[0mkwargs\u001b[0m\u001b[1;33m,\u001b[0m \u001b[0mmlines\u001b[0m\u001b[1;33m.\u001b[0m\u001b[0mLine2D\u001b[0m\u001b[1;33m.\u001b[0m\u001b[0m_alias_map\u001b[0m\u001b[1;33m)\u001b[0m\u001b[1;33m\u001b[0m\u001b[1;33m\u001b[0m\u001b[0m\n\u001b[1;32m-> 1665\u001b[1;33m         \u001b[0mlines\u001b[0m \u001b[1;33m=\u001b[0m \u001b[1;33m[\u001b[0m\u001b[1;33m*\u001b[0m\u001b[0mself\u001b[0m\u001b[1;33m.\u001b[0m\u001b[0m_get_lines\u001b[0m\u001b[1;33m(\u001b[0m\u001b[1;33m*\u001b[0m\u001b[0margs\u001b[0m\u001b[1;33m,\u001b[0m \u001b[0mdata\u001b[0m\u001b[1;33m=\u001b[0m\u001b[0mdata\u001b[0m\u001b[1;33m,\u001b[0m \u001b[1;33m**\u001b[0m\u001b[0mkwargs\u001b[0m\u001b[1;33m)\u001b[0m\u001b[1;33m]\u001b[0m\u001b[1;33m\u001b[0m\u001b[1;33m\u001b[0m\u001b[0m\n\u001b[0m\u001b[0;32m   1666\u001b[0m         \u001b[1;32mfor\u001b[0m \u001b[0mline\u001b[0m \u001b[1;32min\u001b[0m \u001b[0mlines\u001b[0m\u001b[1;33m:\u001b[0m\u001b[1;33m\u001b[0m\u001b[1;33m\u001b[0m\u001b[0m\n\u001b[0;32m   1667\u001b[0m             \u001b[0mself\u001b[0m\u001b[1;33m.\u001b[0m\u001b[0madd_line\u001b[0m\u001b[1;33m(\u001b[0m\u001b[0mline\u001b[0m\u001b[1;33m)\u001b[0m\u001b[1;33m\u001b[0m\u001b[1;33m\u001b[0m\u001b[0m\n",
      "\u001b[1;32m~\\anaconda3\\lib\\site-packages\\matplotlib\\axes\\_base.py\u001b[0m in \u001b[0;36m__call__\u001b[1;34m(self, *args, **kwargs)\u001b[0m\n\u001b[0;32m    223\u001b[0m                 \u001b[0mthis\u001b[0m \u001b[1;33m+=\u001b[0m \u001b[0margs\u001b[0m\u001b[1;33m[\u001b[0m\u001b[1;36m0\u001b[0m\u001b[1;33m]\u001b[0m\u001b[1;33m,\u001b[0m\u001b[1;33m\u001b[0m\u001b[1;33m\u001b[0m\u001b[0m\n\u001b[0;32m    224\u001b[0m                 \u001b[0margs\u001b[0m \u001b[1;33m=\u001b[0m \u001b[0margs\u001b[0m\u001b[1;33m[\u001b[0m\u001b[1;36m1\u001b[0m\u001b[1;33m:\u001b[0m\u001b[1;33m]\u001b[0m\u001b[1;33m\u001b[0m\u001b[1;33m\u001b[0m\u001b[0m\n\u001b[1;32m--> 225\u001b[1;33m             \u001b[1;32myield\u001b[0m \u001b[1;32mfrom\u001b[0m \u001b[0mself\u001b[0m\u001b[1;33m.\u001b[0m\u001b[0m_plot_args\u001b[0m\u001b[1;33m(\u001b[0m\u001b[0mthis\u001b[0m\u001b[1;33m,\u001b[0m \u001b[0mkwargs\u001b[0m\u001b[1;33m)\u001b[0m\u001b[1;33m\u001b[0m\u001b[1;33m\u001b[0m\u001b[0m\n\u001b[0m\u001b[0;32m    226\u001b[0m \u001b[1;33m\u001b[0m\u001b[0m\n\u001b[0;32m    227\u001b[0m     \u001b[1;32mdef\u001b[0m \u001b[0mget_next_color\u001b[0m\u001b[1;33m(\u001b[0m\u001b[0mself\u001b[0m\u001b[1;33m)\u001b[0m\u001b[1;33m:\u001b[0m\u001b[1;33m\u001b[0m\u001b[1;33m\u001b[0m\u001b[0m\n",
      "\u001b[1;32m~\\anaconda3\\lib\\site-packages\\matplotlib\\axes\\_base.py\u001b[0m in \u001b[0;36m_plot_args\u001b[1;34m(self, tup, kwargs)\u001b[0m\n\u001b[0;32m    389\u001b[0m             \u001b[0mx\u001b[0m\u001b[1;33m,\u001b[0m \u001b[0my\u001b[0m \u001b[1;33m=\u001b[0m \u001b[0mindex_of\u001b[0m\u001b[1;33m(\u001b[0m\u001b[0mtup\u001b[0m\u001b[1;33m[\u001b[0m\u001b[1;33m-\u001b[0m\u001b[1;36m1\u001b[0m\u001b[1;33m]\u001b[0m\u001b[1;33m)\u001b[0m\u001b[1;33m\u001b[0m\u001b[1;33m\u001b[0m\u001b[0m\n\u001b[0;32m    390\u001b[0m \u001b[1;33m\u001b[0m\u001b[0m\n\u001b[1;32m--> 391\u001b[1;33m         \u001b[0mx\u001b[0m\u001b[1;33m,\u001b[0m \u001b[0my\u001b[0m \u001b[1;33m=\u001b[0m \u001b[0mself\u001b[0m\u001b[1;33m.\u001b[0m\u001b[0m_xy_from_xy\u001b[0m\u001b[1;33m(\u001b[0m\u001b[0mx\u001b[0m\u001b[1;33m,\u001b[0m \u001b[0my\u001b[0m\u001b[1;33m)\u001b[0m\u001b[1;33m\u001b[0m\u001b[1;33m\u001b[0m\u001b[0m\n\u001b[0m\u001b[0;32m    392\u001b[0m \u001b[1;33m\u001b[0m\u001b[0m\n\u001b[0;32m    393\u001b[0m         \u001b[1;32mif\u001b[0m \u001b[0mself\u001b[0m\u001b[1;33m.\u001b[0m\u001b[0mcommand\u001b[0m \u001b[1;33m==\u001b[0m \u001b[1;34m'plot'\u001b[0m\u001b[1;33m:\u001b[0m\u001b[1;33m\u001b[0m\u001b[1;33m\u001b[0m\u001b[0m\n",
      "\u001b[1;32m~\\anaconda3\\lib\\site-packages\\matplotlib\\axes\\_base.py\u001b[0m in \u001b[0;36m_xy_from_xy\u001b[1;34m(self, x, y)\u001b[0m\n\u001b[0;32m    268\u001b[0m         \u001b[1;32mif\u001b[0m \u001b[0mx\u001b[0m\u001b[1;33m.\u001b[0m\u001b[0mshape\u001b[0m\u001b[1;33m[\u001b[0m\u001b[1;36m0\u001b[0m\u001b[1;33m]\u001b[0m \u001b[1;33m!=\u001b[0m \u001b[0my\u001b[0m\u001b[1;33m.\u001b[0m\u001b[0mshape\u001b[0m\u001b[1;33m[\u001b[0m\u001b[1;36m0\u001b[0m\u001b[1;33m]\u001b[0m\u001b[1;33m:\u001b[0m\u001b[1;33m\u001b[0m\u001b[1;33m\u001b[0m\u001b[0m\n\u001b[0;32m    269\u001b[0m             raise ValueError(\"x and y must have same first dimension, but \"\n\u001b[1;32m--> 270\u001b[1;33m                              \"have shapes {} and {}\".format(x.shape, y.shape))\n\u001b[0m\u001b[0;32m    271\u001b[0m         \u001b[1;32mif\u001b[0m \u001b[0mx\u001b[0m\u001b[1;33m.\u001b[0m\u001b[0mndim\u001b[0m \u001b[1;33m>\u001b[0m \u001b[1;36m2\u001b[0m \u001b[1;32mor\u001b[0m \u001b[0my\u001b[0m\u001b[1;33m.\u001b[0m\u001b[0mndim\u001b[0m \u001b[1;33m>\u001b[0m \u001b[1;36m2\u001b[0m\u001b[1;33m:\u001b[0m\u001b[1;33m\u001b[0m\u001b[1;33m\u001b[0m\u001b[0m\n\u001b[0;32m    272\u001b[0m             raise ValueError(\"x and y can be no greater than 2-D, but have \"\n",
      "\u001b[1;31mValueError\u001b[0m: x and y must have same first dimension, but have shapes (6, 1) and (1, 6)"
     ]
    }
   ],
   "source": [
    "CA_row = CA_column.T\n",
    "fig = plt.figure()\n",
    "ax1 = plt.subplot(111)\n",
    "\n",
    "ax1.plot(t_column,CA_row)\n",
    "ax1.set_xlabel('Time (s)')\n",
    "ax1.set_ylabel(r'$C_A$ (mol/L)')\n",
    "ax1.legend([r'$C_A$'])\n",
    "\n",
    "fig.tight_layout()\n",
    "plt.show()"
   ]
  },
  {
   "cell_type": "markdown",
   "metadata": {},
   "source": [
    "## Exercise 5\n",
    "\n",
    "Save this as a PDF for submission. You have several options here - some are better than others.\n",
    "\n",
    "1. **Browser Print/Save as PDF.** This is the easiest. It doesn't look the best, but it works well and doesn't usually have rendering issues.\n",
    "\n",
    "2. **File/Print Preview/Browser Print/Save as PDF.** This is similar to the previous.\n",
    "\n",
    "3. **File/Download as/HTML/Browser Print/Save as PDF.** This is similar to the previous.\n",
    "\n",
    "4. **File/Download as/PDF via LaTeX.** This generates an actual LaTeX-based PDF and looks very professional. However, you have to have a TeX distribution on your computer and this can be a bit annoying to install and get working properly with Jupyter. Your best bet for a distribution can be found through this link: https://www.latex-project.org/get/\n",
    "\n",
    "Once you've downloaded this as a PDF, you'll have to merge it with a PDF copy of the rest of your submission. One free PDF merging software you can use is PDFsam Basic.\n",
    "\n",
    "Then you can submit the merged file to Gradescope.\n",
    "\n",
    "*Note: you can delete any cell by clicking to the white space to the left of it and pressing \"dd\" but be careful - you will not be warned that this will happen! It can be undone, however, with Edit/Undo Delete Cells.*"
   ]
  },
  {
   "cell_type": "code",
   "execution_count": null,
   "metadata": {},
   "outputs": [],
   "source": []
  }
 ],
 "metadata": {
  "kernelspec": {
   "display_name": "Python 3",
   "language": "python",
   "name": "python3"
  },
  "language_info": {
   "codemirror_mode": {
    "name": "ipython",
    "version": 3
   },
   "file_extension": ".py",
   "mimetype": "text/x-python",
   "name": "python",
   "nbconvert_exporter": "python",
   "pygments_lexer": "ipython3",
   "version": "3.7.6"
  },
  "varInspector": {
   "cols": {
    "lenName": 16,
    "lenType": 16,
    "lenVar": 40
   },
   "kernels_config": {
    "python": {
     "delete_cmd_postfix": "",
     "delete_cmd_prefix": "del ",
     "library": "var_list.py",
     "varRefreshCmd": "print(var_dic_list())"
    },
    "r": {
     "delete_cmd_postfix": ") ",
     "delete_cmd_prefix": "rm(",
     "library": "var_list.r",
     "varRefreshCmd": "cat(var_dic_list()) "
    }
   },
   "types_to_exclude": [
    "module",
    "function",
    "builtin_function_or_method",
    "instance",
    "_Feature"
   ],
   "window_display": false
  }
 },
 "nbformat": 4,
 "nbformat_minor": 4
}
